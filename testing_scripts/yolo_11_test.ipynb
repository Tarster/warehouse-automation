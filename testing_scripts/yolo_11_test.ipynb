{
 "cells": [
  {
   "cell_type": "code",
   "execution_count": 1,
   "id": "4e7ef858",
   "metadata": {},
   "outputs": [
    {
     "name": "stdout",
     "output_type": "stream",
     "text": [
      "\n",
      "image 1/1 /Users/karanrnair/Desktop/XODE/AtlanTech AI Challenge/Annotation_images/AI - Hackaton Images/IMG_0548.JPG: 640x448 (no detections), 96.0ms\n",
      "Speed: 2.5ms preprocess, 96.0ms inference, 0.3ms postprocess per image at shape (1, 3, 640, 448)\n"
     ]
    }
   ],
   "source": [
    "from ultralytics import YOLOWorld\n",
    "\n",
    "# Initialize a YOLO-World model\n",
    "model = YOLOWorld(\"yolov8s-world.pt\") \n",
    "# Define custom classes\n",
    "model.set_classes([\"printed labels\"])\n",
    "\n",
    "# Execute inference with the YOLOv8s-world model on the specified image\n",
    "results = model.predict(\"Annotation_images/AI - Hackaton Images/IMG_0548.JPG\")\n",
    "\n",
    "# Show results\n",
    "results[0].show()\n",
    "\n",
    "# # Access the results\n",
    "# for result in results:\n",
    "#     xywh = result.boxes.xywh  # center-x, center-y, width, height\n",
    "#     xywhn = result.boxes.xywhn  # normalized\n",
    "#     xyxy = result.boxes.xyxy  # top-left-x, top-left-y, bottom-right-x, bottom-right-y\n",
    "#     xyxyn = result.boxes.xyxyn  # normalized\n",
    "#     names = [result.names[cls.item()] for cls in result.boxes.cls.int()]  # class name of each box\n",
    "#     confs = result.boxes.conf  # confidence score of each box\n",
    "\n",
    "#     print(names)"
   ]
  }
 ],
 "metadata": {
  "kernelspec": {
   "display_name": ".venv",
   "language": "python",
   "name": "python3"
  },
  "language_info": {
   "codemirror_mode": {
    "name": "ipython",
    "version": 3
   },
   "file_extension": ".py",
   "mimetype": "text/x-python",
   "name": "python",
   "nbconvert_exporter": "python",
   "pygments_lexer": "ipython3",
   "version": "3.13.2"
  }
 },
 "nbformat": 4,
 "nbformat_minor": 5
}
